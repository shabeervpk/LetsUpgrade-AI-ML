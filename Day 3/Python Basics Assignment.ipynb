{
 "cells": [
  {
   "cell_type": "code",
   "execution_count": 1,
   "metadata": {},
   "outputs": [
    {
     "name": "stdout",
     "output_type": "stream",
     "text": [
      "Subtraction of complex numbers :  (100+50j)  -  (20+5j)  =  (80+45j)\n"
     ]
    }
   ],
   "source": [
    "# Q1. Write a program to subtract two complex numbers in Python\n",
    "\n",
    "a = 100+50j\n",
    "b = 20+5j\n",
    "c = a-b\n",
    "\n",
    "print(\"Subtraction of complex numbers : \",a,\" - \",b,\" = \",c)"
   ]
  },
  {
   "cell_type": "code",
   "execution_count": 3,
   "metadata": {},
   "outputs": [
    {
     "name": "stdout",
     "output_type": "stream",
     "text": [
      "Fourth root of  32  is  2.378414230005442\n"
     ]
    }
   ],
   "source": [
    "# Q2. Write a program to find the *fourth root* of a number.\n",
    "\n",
    "x = 32\n",
    "\n",
    "print(\"Fourth root of \",x,\" is \", x**(1/4.0))"
   ]
  },
  {
   "cell_type": "code",
   "execution_count": 4,
   "metadata": {},
   "outputs": [
    {
     "name": "stdout",
     "output_type": "stream",
     "text": [
      "The value of a =  35  and b = 1100\n"
     ]
    }
   ],
   "source": [
    "# Q3. Write a program to swap two numbers in Python with the help of a temporary variable.\n",
    "\n",
    "a = 1100\n",
    "b = 35\n",
    "\n",
    "temp_c = a\n",
    "a = b\n",
    "b = temp_c\n",
    "\n",
    "print(\"The value of a = \",a,\" and b =\",b)"
   ]
  },
  {
   "cell_type": "code",
   "execution_count": 6,
   "metadata": {},
   "outputs": [
    {
     "name": "stdout",
     "output_type": "stream",
     "text": [
      "The value of a =  77  and b = 2000\n"
     ]
    }
   ],
   "source": [
    "# Q4. Write a program to swap two numbers in Python without using a temporary variable.\n",
    "\n",
    "a = 2000\n",
    "b = 77\n",
    "\n",
    "a, b = b, a\n",
    "\n",
    "print(\"The value of a = \",a,\" and b =\",b)"
   ]
  },
  {
   "cell_type": "code",
   "execution_count": 9,
   "metadata": {},
   "outputs": [
    {
     "name": "stdout",
     "output_type": "stream",
     "text": [
      "86  fahrenheit is equal to  303.15  kelvin and  30.0  celsius\n"
     ]
    }
   ],
   "source": [
    "# Q5. Write a program to convert fahrenheit to kelvin and celsius both.\n",
    "\n",
    "f = 86\n",
    "k = (f - 32) * (5/9) + 273.15\n",
    "c = (f - 32) * (5/9)\n",
    "\n",
    "print(f,\" fahrenheit is equal to \",k,\" kelvin and \",c,\" celsius\")"
   ]
  },
  {
   "cell_type": "code",
   "execution_count": 14,
   "metadata": {
    "scrolled": true
   },
   "outputs": [
    {
     "name": "stdout",
     "output_type": "stream",
     "text": [
      "Type of i =  5  is  <class 'int'>\n",
      "Type of f =  3.14  is  <class 'float'>\n",
      "Type of b =  True  is  <class 'bool'>\n",
      "Type of s =  Shabeer  is  <class 'str'>\n",
      "Type of t =  (1989, 'John', 'Doe')  is  <class 'tuple'>\n",
      "Type of l =  [1, 2, 3, 'abc']  is  <class 'list'>\n",
      "Type of d =  {'name': 'Shabeer'}  is  <class 'dict'>\n",
      "Type of st =  {'pineapple', 'apple', 'banana'}  is  <class 'set'>\n",
      "Type of c =  (100+3j)  is  <class 'complex'>\n"
     ]
    }
   ],
   "source": [
    "# Q6. Write a program to demonstrate all the available data types in Python.\n",
    "\n",
    "i = 5\n",
    "f = 3.14\n",
    "b = True\n",
    "s = \"Shabeer\"\n",
    "t = (1989,'John','Doe')\n",
    "l = [1,2,3,'abc']\n",
    "d = {'name': 'Shabeer'}\n",
    "st = {'apple', 'banana', 'pineapple'}\n",
    "c = 100+3j\n",
    "\n",
    "print(\"Type of i = \",i, \" is \",type(i))\n",
    "print(\"Type of f = \",f, \" is \",type(f))\n",
    "print(\"Type of b = \",b, \" is \",type(b))\n",
    "print(\"Type of s = \",s, \" is \",type(s))\n",
    "print(\"Type of t = \",t, \" is \",type(t))\n",
    "print(\"Type of l = \",l, \" is \",type(l))\n",
    "print(\"Type of d = \",d, \" is \",type(d))\n",
    "print(\"Type of st = \",st, \" is \",type(st))\n",
    "print(\"Type of c = \",c, \" is \",type(c))"
   ]
  },
  {
   "cell_type": "markdown",
   "metadata": {},
   "source": [
    "# Steps to Create Github Profile and Submit Assignmets\n",
    "\n",
    "## Github Profile\n",
    "1. Goto github.com\n",
    "2. Create a profile or login in to existing profile.\n",
    "3. Create a repository named 'LetsUpgrade AI/ML' as Public\n",
    "\n",
    "## Assignment Notebooks\n",
    "1. Create a folder for each day in the system.\n",
    "2. Create assignment notebook in the respective folder.\n",
    "3. Goto 'LetsUpgrade AI/ML' repository and upload the FOLDER.\n",
    "\n",
    "## Submit the Google Form\n",
    "1. Copy the submitted repository folder\n",
    "2. Goto Google form url.\n",
    "3. Fill the details : Registered Name, Mobile, repository url\n",
    "4. Submit the form"
   ]
  },
  {
   "cell_type": "code",
   "execution_count": null,
   "metadata": {},
   "outputs": [],
   "source": []
  }
 ],
 "metadata": {
  "kernelspec": {
   "display_name": "Python 3",
   "language": "python",
   "name": "python3"
  },
  "language_info": {
   "codemirror_mode": {
    "name": "ipython",
    "version": 3
   },
   "file_extension": ".py",
   "mimetype": "text/x-python",
   "name": "python",
   "nbconvert_exporter": "python",
   "pygments_lexer": "ipython3",
   "version": "3.7.6"
  }
 },
 "nbformat": 4,
 "nbformat_minor": 4
}
