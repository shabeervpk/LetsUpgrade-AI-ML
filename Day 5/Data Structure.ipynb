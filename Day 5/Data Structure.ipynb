{
 "cells": [
  {
   "cell_type": "code",
   "execution_count": 5,
   "metadata": {},
   "outputs": [
    {
     "name": "stdout",
     "output_type": "stream",
     "text": [
      "First 20 Non-Even Prime natural numbers are : \n",
      "3 5 7 11 13 17 19 23 29 31 37 41 43 47 53 59 61 67 71 73 "
     ]
    }
   ],
   "source": [
    "#Q1. Write a Python program to find the first 20 non-even prime natural numbers\n",
    "\n",
    "count = 0\n",
    "num = 1\n",
    "print(\"First 20 Non-Even Prime natural numbers are : \")\n",
    "\n",
    "while(count<20):\n",
    "    if num >1 and num%2 != 0:\n",
    "        #By default set it as prime\n",
    "        is_prime = True\n",
    "        \n",
    "        #Do test\n",
    "        for i in range(2,num//2):\n",
    "            if (num % i) == 0:\n",
    "                is_prime = False\n",
    "                break\n",
    "        \n",
    "        if is_prime:\n",
    "            print(num, end=\" \")\n",
    "            count += 1\n",
    "    num +=1"
   ]
  },
  {
   "cell_type": "code",
   "execution_count": 44,
   "metadata": {},
   "outputs": [
    {
     "name": "stdout",
     "output_type": "stream",
     "text": [
      "1. Uppercase :  LETS UPGRADE HAS VERY GOOD LEARNING PROGRAM FOR AI-ML. IT HAS WORLD CLASS LECTURES AS WELL\n",
      "2. Swapcase :  lETS uPGRADE HAS VERY GOOD LEARNING PROGRAM FOR ai-ml. iT HAS WORLD CLASS LECTURES AS WELL\n",
      "3. Replace :  Lets Upgrade has very best learning program for AI-ML. It has world class lectures as well\n",
      "4. Find 'learning' :  27\n",
      "5. Count 'has' :  2\n",
      "6. Split :  ['Lets Upgrade has very good learning program for AI-ML', ' It has world class lectures as well']\n",
      "7. Index 'AI' :  48\n",
      "8. Is alpha-numeric :  False\n",
      "9. Is alphabet only :  False\n",
      "10. Is decimal only :  True\n",
      "11. Join :  1 * 2 * 3 * 4\n",
      "12. Slice :  Lets Upgrade \n",
      "13. Ends with :  False\n",
      "14. Strip : there is blank space in the string .\n",
      "15. Starts with :  True\n"
     ]
    }
   ],
   "source": [
    "#Q2. Write a Python program to implement 15 functions of string.\n",
    "\n",
    "s = \"Lets Upgrade has very good learning program for AI-ML. It has world class lectures as well\"\n",
    "\n",
    "print(\"1. Uppercase : \",s.upper())\n",
    "print(\"2. Swapcase : \",s.swapcase())\n",
    "print(\"3. Replace : \",s.replace('good','best'))\n",
    "print(\"4. Find 'learning' : \",s.find('learning'))\n",
    "print(\"5. Count 'has' : \",s.count('has'))\n",
    "print(\"6. Split : \",s.split('.'))\n",
    "print(\"7. Index 'AI' : \",s.index('AI'))\n",
    "\n",
    "print(\"8. Is alpha-numeric : \",'abcd 123'.isalnum())\n",
    "print(\"9. Is alphabet only : \",'Lets Upgrade'.isalpha())\n",
    "print(\"10. Is decimal only : \",'123456'.isdecimal())\n",
    "print(\"11. Join : \",\" * \".join(('1','2','3','4')))\n",
    "print(\"12. Slice : \",s[:13])\n",
    "print(\"13. Ends with : \",s.endswith('AI-ML'))\n",
    "\n",
    "print(\"14. Strip :\",'      there is blank space in the string      '.strip(),'.')\n",
    "print(\"15. Starts with : \",s.startswith('Lets'))"
   ]
  },
  {
   "cell_type": "code",
   "execution_count": 40,
   "metadata": {},
   "outputs": [
    {
     "name": "stdout",
     "output_type": "stream",
     "text": [
      "Enter a String silent\n",
      "silent  is Neither Palindrome nor Anagram\n"
     ]
    }
   ],
   "source": [
    "#Q3. Write a Python program to check if the given string is a Palindrome or Anagram or None of them.\n",
    "\n",
    "abc = input('Enter a String ')\n",
    "\n",
    "opp = abc[::-1]\n",
    "s_abc = ''.join(sorted(abc))\n",
    "\n",
    "if abc == opp:\n",
    "    print(abc, \" is Palindrome\")\n",
    "elif abc == s_abc:\n",
    "    print(abc, \" is Anagram\")\n",
    "else:\n",
    "    print(abc, \" is Neither Palindrome nor Anagram\")\n"
   ]
  },
  {
   "cell_type": "code",
   "execution_count": 48,
   "metadata": {},
   "outputs": [
    {
     "name": "stdout",
     "output_type": "stream",
     "text": [
      "Enter a string Dr. Darshan Ingle @AI-ML Trainer\n",
      "Conerted Text is =  drdarshaningleaimltrainer\n"
     ]
    }
   ],
   "source": [
    "#Q4. Write a Python's user defined function that removes all the additional characters from the string and converts it finally to lower case\n",
    "\n",
    "def user_trim(abc):\n",
    "    new_abc = ''\n",
    "    for i in abc:\n",
    "        if i.isalnum():\n",
    "            new_abc += i\n",
    "    return new_abc.lower()\n",
    "    \n",
    "\n",
    "xyz = input('Enter a string ')\n",
    "res = user_trim(xyz)\n",
    "print('Conerted Text is = ',res)\n",
    "\n"
   ]
  }
 ],
 "metadata": {
  "kernelspec": {
   "display_name": "Python 3",
   "language": "python",
   "name": "python3"
  },
  "language_info": {
   "codemirror_mode": {
    "name": "ipython",
    "version": 3
   },
   "file_extension": ".py",
   "mimetype": "text/x-python",
   "name": "python",
   "nbconvert_exporter": "python",
   "pygments_lexer": "ipython3",
   "version": "3.7.6"
  }
 },
 "nbformat": 4,
 "nbformat_minor": 4
}
