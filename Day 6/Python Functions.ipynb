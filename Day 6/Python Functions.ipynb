{
 "cells": [
  {
   "cell_type": "code",
   "execution_count": 3,
   "metadata": {},
   "outputs": [
    {
     "name": "stdout",
     "output_type": "stream",
     "text": [
      "Enter email : john@google.com\n",
      "Company name is  google\n"
     ]
    }
   ],
   "source": [
    "email = input(\"Enter email : \")\n",
    "e_list1 = email.split('@')\n",
    "e_list2 = e_list1[1].split('.')\n",
    "print('Company name is ',e_list2[0])"
   ]
  },
  {
   "cell_type": "code",
   "execution_count": 10,
   "metadata": {},
   "outputs": [
    {
     "name": "stdout",
     "output_type": "stream",
     "text": [
      "Enter list of words : without,hello,bag,world\n",
      "bag,hello,without,world\n"
     ]
    }
   ],
   "source": [
    "w = input('Enter list of words : ')\n",
    "w_list = w.split(',')\n",
    "w_list.sort()\n",
    "print(\",\".join(w_list))"
   ]
  },
  {
   "cell_type": "code",
   "execution_count": 12,
   "metadata": {},
   "outputs": [
    {
     "name": "stdout",
     "output_type": "stream",
     "text": [
      "Sum of the SET value is  21\n"
     ]
    }
   ],
   "source": [
    "num_set = {1,2,3,4,5,6}\n",
    "n_sum = 0\n",
    "for n in num_set:\n",
    "    n_sum += n\n",
    "print('Sum of the SET value is ',n_sum)"
   ]
  },
  {
   "cell_type": "code",
   "execution_count": 2,
   "metadata": {},
   "outputs": [
    {
     "name": "stdout",
     "output_type": "stream",
     "text": [
      "Missing sequence is  10\n"
     ]
    }
   ],
   "source": [
    "list_num = [1,2,3,4,5,6,7,8,9,11,12,13,14,15]\n",
    "\n",
    "n = 1\n",
    "miss_found = False\n",
    "while(n <= max(list_num) or not miss_found):\n",
    "    if n not in list_num:\n",
    "        miss_found = True\n",
    "        break\n",
    "    n += 1\n",
    "\n",
    "if miss_found:\n",
    "    print(\"Missing sequence is \",n)\n",
    "else:\n",
    "    print(\"Unable to find missing sequence\")"
   ]
  },
  {
   "cell_type": "code",
   "execution_count": 4,
   "metadata": {},
   "outputs": [
    {
     "name": "stdout",
     "output_type": "stream",
     "text": [
      "[12, 24, 35, 88, 120, 155]\n"
     ]
    }
   ],
   "source": [
    "L = [12,24,35,24,88,120,155,88,120,155]\n",
    "new_L = []\n",
    "\n",
    "for l in L:\n",
    "    if l not in new_L:\n",
    "        new_L.append(l)\n",
    "\n",
    "print(new_L)"
   ]
  }
 ],
 "metadata": {
  "kernelspec": {
   "display_name": "Python 3",
   "language": "python",
   "name": "python3"
  },
  "language_info": {
   "codemirror_mode": {
    "name": "ipython",
    "version": 3
   },
   "file_extension": ".py",
   "mimetype": "text/x-python",
   "name": "python",
   "nbconvert_exporter": "python",
   "pygments_lexer": "ipython3",
   "version": "3.7.6"
  }
 },
 "nbformat": 4,
 "nbformat_minor": 4
}
