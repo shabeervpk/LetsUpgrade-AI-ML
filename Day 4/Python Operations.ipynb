{
 "cells": [
  {
   "cell_type": "code",
   "execution_count": 4,
   "metadata": {
    "scrolled": true
   },
   "outputs": [
    {
     "name": "stdout",
     "output_type": "stream",
     "text": [
      "Addition of complex numbers  (100+2j)  and  (50+5j)  is  (150+7j)\n",
      "Difference of complex numbers  (100+2j)  and  (50+5j)  is  (50-3j)\n",
      "Multiplication of complex numbers  (100+2j)  and  (50+5j)  is  (4990+600j)\n",
      "Division of complex numbers  (100+2j)  and  (50+5j)  is  (1.9841584158415841-0.15841584158415842j)\n"
     ]
    }
   ],
   "source": [
    "# Q1. Addition, subtraction, multiplication, division, floor division and modulo operations on complex numbers\n",
    "\n",
    "a = 100+2j\n",
    "b = 50+5j\n",
    "\n",
    "print(\"Addition of complex numbers \",a,\" and \",b,\" is \", a+b)\n",
    "print(\"Difference of complex numbers \",a,\" and \",b,\" is \", a-b)\n",
    "print(\"Multiplication of complex numbers \",a,\" and \",b,\" is \", a*b)\n",
    "print(\"Division of complex numbers \",a,\" and \",b,\" is \", a/b)\n",
    "# print(\"Floor Division of complex numbers \",a,\" and \",b,\" is \", a//b)  #TypeError: can't take floor of complex number.\n",
    "# print(\"Modulo operation of complex numbers \",a,\" and \",b,\" is \", a%b) #TypeError: can't mod complex numbers."
   ]
  },
  {
   "cell_type": "markdown",
   "metadata": {},
   "source": [
    "## Range function\n",
    "\n",
    "Range is an iterative function in python, which will return a sequence of numbers.\n",
    "\n",
    "## Syntax:\n",
    "\n",
    "range(end_index)\n",
    "range(start_index,end_index)\n",
    "range(start_index,end_index,step)\n",
    "\n",
    "By default: start_index = 0 and step = 1\n",
    "\n",
    "This will return a sequence of numbers from start_index to (end_index-1) with an increment of 'step'"
   ]
  },
  {
   "cell_type": "code",
   "execution_count": 5,
   "metadata": {},
   "outputs": [
    {
     "name": "stdout",
     "output_type": "stream",
     "text": [
      "Division of  341  and  324  is  1.0524691358024691\n"
     ]
    }
   ],
   "source": [
    "\"\"\"Q3. Consider two numbers. Perform their subtraction and if the result of subtraction is greater than\n",
    "25, print their multiplication result else print their division result\"\"\"\n",
    "\n",
    "x = 341\n",
    "y = 324\n",
    "\n",
    "z = x-y\n",
    "\n",
    "if z > 25:\n",
    "    print(\"Multiplication of \",x,\" and \",y,\" is \",x*y)\n",
    "else:\n",
    "    print(\"Division of \",x,\" and \",y,\" is \",x/y)"
   ]
  },
  {
   "cell_type": "code",
   "execution_count": 8,
   "metadata": {},
   "outputs": [
    {
     "name": "stdout",
     "output_type": "stream",
     "text": [
      "142\n",
      "3134\n",
      "3134\n",
      "62\n",
      "4622\n"
     ]
    }
   ],
   "source": [
    "\"\"\"Q4. Consider a list of 10 elements of integer values. If the number in the list is divisible by 2, print the\n",
    "result as 'square of that number minus 2'. \"\"\"\n",
    "\n",
    "l = [12,56,21,56,77,11,8,68,27,95]\n",
    "\n",
    "for i in l:\n",
    "    if i%2 == 0:\n",
    "        print((i**2)-2)"
   ]
  },
  {
   "cell_type": "code",
   "execution_count": 9,
   "metadata": {},
   "outputs": [
    {
     "name": "stdout",
     "output_type": "stream",
     "text": [
      "12\n",
      "18\n",
      "8\n",
      "20\n",
      "14\n"
     ]
    }
   ],
   "source": [
    "\"\"\"Q5. Consider a list of 10 elements. Print all the elements in the list which are greater than 7 when that\n",
    "number is divided 2.\"\"\"\n",
    "\n",
    "m = [12,5,7,1,18,3,8,20,2,14]\n",
    "\n",
    "for i in m:\n",
    "    if i > 7:\n",
    "        if i%2 == 0:\n",
    "            print(i)"
   ]
  }
 ],
 "metadata": {
  "kernelspec": {
   "display_name": "Python 3",
   "language": "python",
   "name": "python3"
  },
  "language_info": {
   "codemirror_mode": {
    "name": "ipython",
    "version": 3
   },
   "file_extension": ".py",
   "mimetype": "text/x-python",
   "name": "python",
   "nbconvert_exporter": "python",
   "pygments_lexer": "ipython3",
   "version": "3.7.6"
  }
 },
 "nbformat": 4,
 "nbformat_minor": 4
}
